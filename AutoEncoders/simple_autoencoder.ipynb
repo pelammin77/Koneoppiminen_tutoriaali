{
 "cells": [
  {
   "cell_type": "code",
   "execution_count": 6,
   "metadata": {},
   "outputs": [],
   "source": [
    "\"\"\"\n",
    "file: simple_autoencoder\n",
    "Author: Petri Lamminaho (he base code can be found on the Keras blog)\n",
    "Desc: Simple Kras Autoencoder\n",
    "\"\"\"\n",
    "import numpy as np\n",
    "import matplotlib.pyplot as plt\n",
    "from keras.layers import Input, Dense, Lambda\n",
    "from keras.models import Model\n",
    "from keras import backend as K\n",
    "from keras import metrics\n",
    "from keras.datasets import mnist"
   ]
  },
  {
   "cell_type": "code",
   "execution_count": 7,
   "metadata": {},
   "outputs": [],
   "source": [
    "encoding_dim = 32\n",
    "input_image = Input(shape=(784,))\n",
    "encoded = Dense(encoding_dim, activation='relu')(input_image)\n",
    "decoded = Dense(784, activation='sigmoid')(encoded)\n",
    "autoencoder = Model(input_image, decoded)\n",
    "encoder = Model(input_image, encoded)\n",
    "encoded_input = Input(shape=(encoding_dim,))\n",
    "# retrieve the last layer of the autoencoder model\n",
    "decoder_layer = autoencoder.layers[-1]\n",
    "# create the decoder model\n",
    "decoder = Model(encoded_input, decoder_layer(encoded_input))\n",
    "autoencoder.compile(optimizer='adadelta', loss='binary_crossentropy')"
   ]
  },
  {
   "cell_type": "code",
   "execution_count": 8,
   "metadata": {},
   "outputs": [
    {
     "name": "stdout",
     "output_type": "stream",
     "text": [
      "(60000, 784)\n",
      "(10000, 784)\n"
     ]
    }
   ],
   "source": [
    "(x_train, _), (x_test, _) = mnist.load_data()\n",
    "x_train = x_train.astype('float32') / 255.\n",
    "x_test = x_test.astype('float32') / 255.\n",
    "x_train = x_train.reshape((len(x_train), np.prod(x_train.shape[1:])))\n",
    "x_test = x_test.reshape((len(x_test), np.prod(x_test.shape[1:])))\n",
    "print(x_train.shape)\n",
    "print(x_test.shape)\n"
   ]
  },
  {
   "cell_type": "code",
   "execution_count": 9,
   "metadata": {},
   "outputs": [
    {
     "name": "stdout",
     "output_type": "stream",
     "text": [
      "Train on 60000 samples, validate on 10000 samples\n",
      "Epoch 1/50\n",
      "60000/60000 [==============================] - 2s 33us/step - loss: 0.3605 - val_loss: 0.2704\n",
      "Epoch 2/50\n",
      "60000/60000 [==============================] - 2s 27us/step - loss: 0.2626 - val_loss: 0.2511\n",
      "Epoch 3/50\n",
      "60000/60000 [==============================] - 2s 31us/step - loss: 0.2405 - val_loss: 0.2274\n",
      "Epoch 4/50\n",
      "60000/60000 [==============================] - 5s 76us/step - loss: 0.2194 - val_loss: 0.2092\n",
      "Epoch 5/50\n",
      "60000/60000 [==============================] - 7s 116us/step - loss: 0.2042 - val_loss: 0.1967\n",
      "Epoch 6/50\n",
      "60000/60000 [==============================] - 2s 29us/step - loss: 0.1935 - val_loss: 0.1875\n",
      "Epoch 7/50\n",
      "60000/60000 [==============================] - 2s 27us/step - loss: 0.1853 - val_loss: 0.1800\n",
      "Epoch 8/50\n",
      "60000/60000 [==============================] - 2s 27us/step - loss: 0.1784 - val_loss: 0.1737\n",
      "Epoch 9/50\n",
      "60000/60000 [==============================] - 2s 29us/step - loss: 0.1725 - val_loss: 0.1683\n",
      "Epoch 10/50\n",
      "60000/60000 [==============================] - 2s 26us/step - loss: 0.1674 - val_loss: 0.1635\n",
      "Epoch 11/50\n",
      "60000/60000 [==============================] - 2s 27us/step - loss: 0.1630 - val_loss: 0.1594\n",
      "Epoch 12/50\n",
      "60000/60000 [==============================] - 2s 26us/step - loss: 0.1590 - val_loss: 0.1557\n",
      "Epoch 13/50\n",
      "60000/60000 [==============================] - 2s 28us/step - loss: 0.1554 - val_loss: 0.1524\n",
      "Epoch 14/50\n",
      "60000/60000 [==============================] - 2s 26us/step - loss: 0.1521 - val_loss: 0.1492\n",
      "Epoch 15/50\n",
      "60000/60000 [==============================] - 2s 28us/step - loss: 0.1491 - val_loss: 0.1461\n",
      "Epoch 16/50\n",
      "60000/60000 [==============================] - 2s 32us/step - loss: 0.1463 - val_loss: 0.1434\n",
      "Epoch 17/50\n",
      "60000/60000 [==============================] - 2s 28us/step - loss: 0.1436 - val_loss: 0.1407\n",
      "Epoch 18/50\n",
      "60000/60000 [==============================] - 2s 33us/step - loss: 0.1411 - val_loss: 0.1383\n",
      "Epoch 19/50\n",
      "60000/60000 [==============================] - 2s 38us/step - loss: 0.1387 - val_loss: 0.1359\n",
      "Epoch 20/50\n",
      "60000/60000 [==============================] - 2s 27us/step - loss: 0.1364 - val_loss: 0.1335\n",
      "Epoch 21/50\n",
      "60000/60000 [==============================] - 3s 50us/step - loss: 0.1341 - val_loss: 0.1315\n",
      "Epoch 22/50\n",
      "60000/60000 [==============================] - 4s 63us/step - loss: 0.1320 - val_loss: 0.1293\n",
      "Epoch 23/50\n",
      "60000/60000 [==============================] - 2s 33us/step - loss: 0.1299 - val_loss: 0.1273\n",
      "Epoch 24/50\n",
      "60000/60000 [==============================] - 2s 30us/step - loss: 0.1279 - val_loss: 0.1254\n",
      "Epoch 25/50\n",
      "60000/60000 [==============================] - 2s 33us/step - loss: 0.1260 - val_loss: 0.1236\n",
      "Epoch 26/50\n",
      "60000/60000 [==============================] - 2s 33us/step - loss: 0.1242 - val_loss: 0.1217\n",
      "Epoch 27/50\n",
      "60000/60000 [==============================] - 2s 27us/step - loss: 0.1225 - val_loss: 0.1200\n",
      "Epoch 28/50\n",
      "60000/60000 [==============================] - 4s 66us/step - loss: 0.1208 - val_loss: 0.1183\n",
      "Epoch 29/50\n",
      "60000/60000 [==============================] - 2s 35us/step - loss: 0.1192 - val_loss: 0.1168\n",
      "Epoch 30/50\n",
      "60000/60000 [==============================] - 3s 46us/step - loss: 0.1177 - val_loss: 0.1153\n",
      "Epoch 31/50\n",
      "60000/60000 [==============================] - 3s 44us/step - loss: 0.1163 - val_loss: 0.1139\n",
      "Epoch 32/50\n",
      "60000/60000 [==============================] - 3s 45us/step - loss: 0.1149 - val_loss: 0.1126\n",
      "Epoch 33/50\n",
      "60000/60000 [==============================] - 3s 56us/step - loss: 0.1137 - val_loss: 0.1113\n",
      "Epoch 34/50\n",
      "60000/60000 [==============================] - 2s 35us/step - loss: 0.1125 - val_loss: 0.1102\n",
      "Epoch 35/50\n",
      "60000/60000 [==============================] - 2s 28us/step - loss: 0.1114 - val_loss: 0.1092\n",
      "Epoch 36/50\n",
      "60000/60000 [==============================] - 3s 58us/step - loss: 0.1104 - val_loss: 0.1082\n",
      "Epoch 37/50\n",
      "60000/60000 [==============================] - 2s 31us/step - loss: 0.1095 - val_loss: 0.1073\n",
      "Epoch 38/50\n",
      "60000/60000 [==============================] - 5s 78us/step - loss: 0.1086 - val_loss: 0.1065\n",
      "Epoch 39/50\n",
      "60000/60000 [==============================] - 2s 33us/step - loss: 0.1078 - val_loss: 0.1058\n",
      "Epoch 40/50\n",
      "60000/60000 [==============================] - 2s 30us/step - loss: 0.1071 - val_loss: 0.1051\n",
      "Epoch 41/50\n",
      "60000/60000 [==============================] - 2s 29us/step - loss: 0.1065 - val_loss: 0.1045\n",
      "Epoch 42/50\n",
      "60000/60000 [==============================] - 2s 30us/step - loss: 0.1059 - val_loss: 0.1039\n",
      "Epoch 43/50\n",
      "60000/60000 [==============================] - 2s 35us/step - loss: 0.1053 - val_loss: 0.1034\n",
      "Epoch 44/50\n",
      "60000/60000 [==============================] - 2s 39us/step - loss: 0.1048 - val_loss: 0.1029\n",
      "Epoch 45/50\n",
      "60000/60000 [==============================] - 2s 29us/step - loss: 0.1043 - val_loss: 0.1024\n",
      "Epoch 46/50\n",
      "60000/60000 [==============================] - 2s 28us/step - loss: 0.1039 - val_loss: 0.1020\n",
      "Epoch 47/50\n",
      "60000/60000 [==============================] - 2s 31us/step - loss: 0.1035 - val_loss: 0.1016\n",
      "Epoch 48/50\n",
      "60000/60000 [==============================] - 2s 29us/step - loss: 0.1031 - val_loss: 0.1012\n",
      "Epoch 49/50\n",
      "60000/60000 [==============================] - 2s 31us/step - loss: 0.1027 - val_loss: 0.1009\n",
      "Epoch 50/50\n",
      "60000/60000 [==============================] - 2s 29us/step - loss: 0.1024 - val_loss: 0.1005\n"
     ]
    },
    {
     "data": {
      "text/plain": [
       "<keras.callbacks.History at 0x1c04ebce438>"
      ]
     },
     "execution_count": 9,
     "metadata": {},
     "output_type": "execute_result"
    }
   ],
   "source": [
    "autoencoder.fit(x_train, x_train,\n",
    "                epochs=50,\n",
    "                batch_size=256,\n",
    "                shuffle=True,\n",
    "                validation_data=(x_test, x_test))"
   ]
  },
  {
   "cell_type": "code",
   "execution_count": 10,
   "metadata": {},
   "outputs": [],
   "source": [
    "encoded_imgs = encoder.predict(x_test)\n",
    "decoded_imgs = decoder.predict(encoded_imgs)\n"
   ]
  },
  {
   "cell_type": "code",
   "execution_count": 11,
   "metadata": {},
   "outputs": [
    {
     "data": {
      "image/png": "[encoded data removed]",
      "text/plain": [
       "<Figure size 1440x288 with 20 Axes>"
      ]
     },
     "metadata": {
      "needs_background": "light"
     },
     "output_type": "display_data"
    }
   ],
   "source": [
    "n = 10  # how many digits we will display\n",
    "plt.figure(figsize=(20, 4))\n",
    "for i in range(n):\n",
    "    # display original\n",
    "    ax = plt.subplot(2, n, i + 1)\n",
    "    plt.imshow(x_test[i].reshape(28, 28))\n",
    "    plt.gray()\n",
    "    ax.get_xaxis().set_visible(False)\n",
    "    ax.get_yaxis().set_visible(False)\n",
    "\n",
    "    # display reconstruction\n",
    "    ax = plt.subplot(2, n, i + 1 + n)\n",
    "    plt.imshow(decoded_imgs[i].reshape(28, 28))\n",
    "    plt.gray()\n",
    "    ax.get_xaxis().set_visible(False)\n",
    "    ax.get_yaxis().set_visible(False)\n",
    "plt.show()"
   ]
  }
 ],
 "metadata": {
  "kernelspec": {
   "display_name": "Python 3",
   "language": "python",
   "name": "python3"
  },
  "language_info": {
   "codemirror_mode": {
    "name": "ipython",
    "version": 3
   },
   "file_extension": ".py",
   "mimetype": "text/x-python",
   "name": "python",
   "nbconvert_exporter": "python",
   "pygments_lexer": "ipython3",
   "version": "3.5.6"
  }
 },
 "nbformat": 4,
 "nbformat_minor": 2
}
