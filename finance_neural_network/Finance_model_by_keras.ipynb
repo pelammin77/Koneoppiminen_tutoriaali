{
 "cells": [
  {
   "cell_type": "markdown",
   "metadata": {},
   "source": [
    "# Keras finance prediction model \n",
    "### Author Petri Lamminaho \n",
    "### Simple stock prediction model uses Keras machine learning lib\n"
   ]
  },
  {
   "cell_type": "code",
   "execution_count": 1,
   "metadata": {},
   "outputs": [
    {
     "name": "stderr",
     "output_type": "stream",
     "text": [
      "c:\\users\\petri\\anaconda3\\envs\\tf1.6\\lib\\site-packages\\h5py\\__init__.py:36: FutureWarning: Conversion of the second argument of issubdtype from `float` to `np.floating` is deprecated. In future, it will be treated as `np.float64 == np.dtype(float).type`.\n",
      "  from ._conv import register_converters as _register_converters\n",
      "Using TensorFlow backend.\n"
     ]
    }
   ],
   "source": [
    "import pandas_datareader as pdr\n",
    "import numpy as np\n",
    "import matplotlib.pyplot as plt\n",
    "import pandas as pd\n",
    "from pandas import datetime\n",
    "import math, time\n",
    "import itertools\n",
    "from sklearn import preprocessing\n",
    "import datetime as dt\n",
    "from operator import itemgetter\n",
    "from sklearn.metrics import mean_squared_error\n",
    "from math import sqrt\n",
    "from keras.models import Sequential\n",
    "from keras.layers.core import Dense, Dropout, Activation\n",
    "from keras.layers.recurrent import LSTM"
   ]
  },
  {
   "cell_type": "code",
   "execution_count": 2,
   "metadata": {},
   "outputs": [],
   "source": [
    "def get_market_data(stock_name, normalized=0):# reads data from \n",
    "    start_day = dt.datetime(2010, 1, 1)  # starting day \n",
    "    end_day = dt.datetime.now()  # end day (today) \n",
    "    df = pdr.DataReader(stock_name, 'yahoo', start_day, end_day)  #\n",
    "    df = df[[\"Open\", \"High\", \"Close\"]]  # \n",
    "    #print(df.tail())\n",
    "    return df"
   ]
  },
  {
   "cell_type": "code",
   "execution_count": 3,
   "metadata": {},
   "outputs": [],
   "source": [
    "def pre_process_data(df, f=1000):# normalazing data \n",
    "    df['High'] = df['High'] / f\n",
    "    df['Open'] = df['Open'] / f\n",
    "    df['Close'] = df['Close'] / f\n",
    "    print(\"Start:\",df.head())\n",
    "    print(\"End:\",df.tail())\n",
    "    return  df\n"
   ]
  },
  {
   "cell_type": "code",
   "execution_count": 4,
   "metadata": {},
   "outputs": [],
   "source": [
    "def save_data_to_csv(df, stock_name): # saves data to csv file \n",
    "    file_name = stock_name + '.csv'\n",
    "    df.to_csv(file_name)"
   ]
  },
  {
   "cell_type": "code",
   "execution_count": 6,
   "metadata": {},
   "outputs": [],
   "source": [
    "def train_test_split(stocks, seq_len):\n",
    "\n",
    "    num_of_features = len(stocks.columns)\n",
    "    data = stocks.as_matrix()\n",
    "    print(\"First data\", data[0])\n",
    "    print(\"last data\", data[-1])\n",
    "    len_of_seq = seq_len + 1\n",
    "    res =[]\n",
    "    for i in range(len(data)- len_of_seq):\n",
    "        res.append(data[i: i +len_of_seq])\n",
    "\n",
    "    res = np.array(res)\n",
    "    row = round(0.9 * res.shape[0])\n",
    "    train = res[:int(row), :]\n",
    "    x_train = train[:, :-1]\n",
    "    y_train = train[:, -1][:, -1]\n",
    "    x_test = res[int(row):, :-1]\n",
    "    y_test = res[int(row):, -1][:, -1]\n",
    "    x_train = np.reshape(x_train, (x_train.shape[0], x_train.shape[1], num_of_features))\n",
    "    x_test = np.reshape(x_test, (x_test.shape[0], x_test.shape[1], num_of_features))\n",
    "    return [x_train, y_train, x_test, y_test]\n"
   ]
  },
  {
   "cell_type": "code",
   "execution_count": 8,
   "metadata": {},
   "outputs": [],
   "source": [
    "def build_model(layers): # building Keras RNN model \n",
    "    drop = 0.2\n",
    "    model = Sequential()\n",
    "    model.add(LSTM(128, input_shape=(layers[1], layers[0]), return_sequences=True))\n",
    "    model.add(Dropout(drop))\n",
    "    \n",
    "    model.add(LSTM(64, input_shape=(layers[1], layers[0]), return_sequences=False))\n",
    "    model.add(Dropout(drop))\n",
    "    \n",
    "    model.add(Dense(16, init='uniform', activation='relu'))\n",
    "    model.add(Dense(1, init='uniform', activation='relu'))\n",
    "    \n",
    "    model.compile(loss='mse', optimizer='adam', metrics=['accuracy'])\n",
    "    return model"
   ]
  },
  {
   "cell_type": "code",
   "execution_count": 9,
   "metadata": {},
   "outputs": [
    {
     "name": "stdout",
     "output_type": "stream",
     "text": [
      "Start:                 Open      High     Close\n",
      "Date                                    \n",
      "2010-01-04  0.313789  0.315070  0.313689\n",
      "2010-01-05  0.313904  0.314234  0.312307\n",
      "2010-01-06  0.313243  0.313243  0.304434\n",
      "2010-01-07  0.305005  0.305305  0.297347\n",
      "2010-01-08  0.296296  0.301927  0.301311\n",
      "End:                Open     High    Close\n",
      "Date                                 \n",
      "2019-01-28  1.09007  1.09337  1.07986\n",
      "2019-01-29  1.08104  1.08473  1.07006\n",
      "2019-01-30  1.07736  1.09952  1.09799\n",
      "2019-01-31  1.11224  1.12767  1.12589\n",
      "2019-02-01  1.12229  1.13440  1.11862\n",
      "First data [0.31378879 0.31507007 0.31368869]\n",
      "last data [1.12229004 1.13440002 1.11862   ]\n",
      "X_train (2052, 5, 3)\n",
      "y_train (2052,)\n",
      "X_test (228, 5, 3)\n",
      "y_test (228,)\n"
     ]
    },
    {
     "name": "stderr",
     "output_type": "stream",
     "text": [
      "c:\\users\\petri\\anaconda3\\envs\\tf1.6\\lib\\site-packages\\ipykernel_launcher.py:11: UserWarning: Update your `Dense` call to the Keras 2 API: `Dense(16, kernel_initializer=\"uniform\", activation=\"relu\")`\n",
      "  # This is added back by InteractiveShellApp.init_path()\n",
      "c:\\users\\petri\\anaconda3\\envs\\tf1.6\\lib\\site-packages\\ipykernel_launcher.py:12: UserWarning: Update your `Dense` call to the Keras 2 API: `Dense(1, kernel_initializer=\"uniform\", activation=\"relu\")`\n",
      "  if sys.path[0] == '':\n",
      "c:\\users\\petri\\anaconda3\\envs\\tf1.6\\lib\\site-packages\\keras\\models.py:944: UserWarning: The `nb_epoch` argument in `fit` has been renamed `epochs`.\n",
      "  warnings.warn('The `nb_epoch` argument in `fit` '\n"
     ]
    },
    {
     "data": {
      "text/plain": [
       "<keras.callbacks.History at 0x14278fcb4e0>"
      ]
     },
     "execution_count": 9,
     "metadata": {},
     "output_type": "execute_result"
    }
   ],
   "source": [
    "stock_name = 'GOOGL'\n",
    "df = get_market_data(stock_name,0)\n",
    "df = pre_process_data(df, 1000)\n",
    "save_data_to_csv(df, stock_name)\n",
    "window = 5\n",
    "X_train, y_train, X_test, y_test = train_test_split(df, window)\n",
    "print(\"X_train\", X_train.shape)\n",
    "print(\"y_train\", y_train.shape)\n",
    "print(\"X_test\", X_test.shape)\n",
    "print(\"y_test\", y_test.shape)\n",
    "model = build_model([3,window,1])\n",
    "\n",
    "model.fit(  # training \n",
    "    X_train,\n",
    "    y_train,\n",
    "    batch_size=512,\n",
    "    nb_epoch=500,\n",
    "    validation_split=0.1,\n",
    "    verbose=0)"
   ]
  },
  {
   "cell_type": "code",
   "execution_count": 10,
   "metadata": {},
   "outputs": [
    {
     "name": "stdout",
     "output_type": "stream",
     "text": [
      "Train Score: 0.00 MSE (0.02 RMSE)\n",
      "Test Score: 0.00 MSE (0.04 RMSE)\n",
      "[[1.122      1.12765002 1.10392004]\n",
      " [1.10954004 1.11127002 1.07141003]\n",
      " [1.05797998 1.08689001 1.08414001]\n",
      " [1.07813    1.10118005 1.09476001]\n",
      " [1.10209998 1.10563    1.10090002]]\n"
     ]
    }
   ],
   "source": [
    "trainScore = model.evaluate(X_train, y_train, verbose=0)# testing and prints model acc \n",
    "print('Train Score: %.2f MSE (%.2f RMSE)' % (trainScore[0], math.sqrt(trainScore[0])))\n",
    "\n",
    "testScore = model.evaluate(X_test, y_test, verbose=0)\n",
    "print('Test Score: %.2f MSE (%.2f RMSE)' % (testScore[0], math.sqrt(testScore[0])))\n",
    "\n",
    "print(X_test[0])\n",
    "diff=[]\n",
    "ratio=[]\n",
    "p = model.predict(X_test)\n",
    "\n",
    "\n",
    "for u in range(len(y_test)):\n",
    "    pr = p[u][0]\n",
    "    ratio.append((y_test[u]/pr)-1)\n",
    "    diff.append(abs(y_test[u]- pr))\n"
   ]
  },
  {
   "cell_type": "code",
   "execution_count": 13,
   "metadata": {},
   "outputs": [
    {
     "data": {
      "image/png": "[encoded data removed]",
      "text/plain": [
       "<Figure size 432x288 with 1 Axes>"
      ]
     },
     "metadata": {
      "needs_background": "light"
     },
     "output_type": "display_data"
    }
   ],
   "source": [
    "plt.plot(p, color='red', label='prediction') # plotting results \n",
    "plt.plot(y_test, color='blue', label='y_test')\n",
    "plt.legend(loc='upper left')\n",
    "plt.show()"
   ]
  },
  {
   "cell_type": "code",
   "execution_count": null,
   "metadata": {},
   "outputs": [],
   "source": []
  }
 ],
 "metadata": {
  "kernelspec": {
   "display_name": "Python 3",
   "language": "python",
   "name": "python3"
  },
  "language_info": {
   "codemirror_mode": {
    "name": "ipython",
    "version": 3
   },
   "file_extension": ".py",
   "mimetype": "text/x-python",
   "name": "python",
   "nbconvert_exporter": "python",
   "pygments_lexer": "ipython3",
   "version": "3.5.4"
  }
 },
 "nbformat": 4,
 "nbformat_minor": 2
}
