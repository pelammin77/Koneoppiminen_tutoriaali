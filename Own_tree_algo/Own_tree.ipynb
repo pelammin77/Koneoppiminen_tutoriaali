{
 "cells": [
  {
   "cell_type": "markdown",
   "metadata": {},
   "source": [
    "\"\"\"\n",
    "Tiedosto: \n",
    "Tekijä Petri Lamminaho  \n",
    "Kuvaus: Koodi joka tekee yksinkertaisen päätöksentekopuun\n",
    "        (Decision Tree) alusta asti Ilman ulkoisia kirjastoja  \n",
    "         Käyttää CART algoritmia\n",
    "\"\"\""
   ]
  },
  {
   "cell_type": "code",
   "execution_count": 1,
   "metadata": {
    "collapsed": true
   },
   "outputs": [],
   "source": [
    "#Testi data \n",
    "data = [\n",
    "    ['vihrea', 3, 'silea', 'omena'],\n",
    "    ['keltainen', 3, 'silea', 'omena'],\n",
    "    ['punainen', 1,'silea', 'rypale'],\n",
    "    ['keltainen', 3,'karhea', \"sitruuna\"],\n",
    "    ['punainen', 1, 'karhea', 'mansikka']\n",
    "]"
   ]
  },
  {
   "cell_type": "code",
   "execution_count": 2,
   "metadata": {},
   "outputs": [
    {
     "data": {
      "text/plain": [
       "[['vihrea', 3, 'silea', 'omena'],\n",
       " ['keltainen', 3, 'silea', 'omena'],\n",
       " ['punainen', 1, 'silea', 'rypale'],\n",
       " ['keltainen', 3, 'karhea', 'sitruuna'],\n",
       " ['punainen', 1, 'karhea', 'mansikka']]"
      ]
     },
     "execution_count": 2,
     "metadata": {},
     "output_type": "execute_result"
    }
   ],
   "source": [
    "data"
   ]
  },
  {
   "cell_type": "code",
   "execution_count": 3,
   "metadata": {
    "collapsed": true
   },
   "outputs": [],
   "source": [
    "sarake_headers = ['vari', 'ymparysmitta cm', 'pinta', 'label']"
   ]
  },
  {
   "cell_type": "code",
   "execution_count": 4,
   "metadata": {},
   "outputs": [
    {
     "data": {
      "text/plain": [
       "['vari', 'ymparysmitta cm', 'pinta', 'label']"
      ]
     },
     "execution_count": 4,
     "metadata": {},
     "output_type": "execute_result"
    }
   ],
   "source": [
    "sarake_headers"
   ]
  },
  {
   "cell_type": "code",
   "execution_count": 5,
   "metadata": {
    "collapsed": true
   },
   "outputs": [],
   "source": [
    "def palauta_luokkien_lkm(rivit): #palauttaa jokaisen luokassa olevan \"luokan\" nimen ja lkm \n",
    "    counts = {}  \n",
    "    for rivi in rivit:\n",
    "        label = rivi[-1]\n",
    "        if label not in counts:\n",
    "            counts[label] = 0\n",
    "        counts[label] += 1\n",
    "    return counts\n"
   ]
  },
  {
   "cell_type": "code",
   "execution_count": 6,
   "metadata": {},
   "outputs": [
    {
     "data": {
      "text/plain": [
       "{'mansikka': 1, 'omena': 2, 'rypale': 1, 'sitruuna': 1}"
      ]
     },
     "execution_count": 6,
     "metadata": {},
     "output_type": "execute_result"
    }
   ],
   "source": [
    "palauta_luokkien_lkm(data)"
   ]
  },
  {
   "cell_type": "code",
   "execution_count": 7,
   "metadata": {
    "collapsed": true
   },
   "outputs": [],
   "source": [
    "def onko_numero(value):          # jos muuttuja on numero palauttaa True Muutoin False  \n",
    "    return isinstance(value, int) or isinstance(value, float)"
   ]
  },
  {
   "cell_type": "code",
   "execution_count": 8,
   "metadata": {},
   "outputs": [
    {
     "data": {
      "text/plain": [
       "True"
      ]
     },
     "execution_count": 8,
     "metadata": {},
     "output_type": "execute_result"
    }
   ],
   "source": [
    "#test pitäisi true \n",
    "onko_numero(10)"
   ]
  },
  {
   "cell_type": "code",
   "execution_count": 9,
   "metadata": {},
   "outputs": [
    {
     "data": {
      "text/plain": [
       "False"
      ]
     },
     "execution_count": 9,
     "metadata": {},
     "output_type": "execute_result"
    }
   ],
   "source": [
    "#tulostaa falsen \n",
    "onko_numero(\"keltainen\")"
   ]
  },
  {
   "cell_type": "code",
   "execution_count": 10,
   "metadata": {
    "collapsed": true
   },
   "outputs": [],
   "source": [
    "#Kysymys-luokkka  \n",
    "class Kysymys:\n",
    "    def __init__(self, col, val):\n",
    "        self.col = col\n",
    "        self.val = val\n",
    "\n",
    "    def vertaa_onko_match(self, example): \n",
    "        val = example[self.col]\n",
    "\n",
    "        if onko_numero(val):\n",
    "            return val >= self.val\n",
    "        else:\n",
    "            return val == self.val\n",
    "\n",
    "    def __repr__(self):\n",
    "        condition = \"==\"\n",
    "        if onko_numero(self.val):\n",
    "            condition = \">=\"\n",
    "        return \"Onko %s %s %s?\" % (\n",
    "            sarake_headers[self.col], condition, str(self.val))\n"
   ]
  },
  {
   "cell_type": "code",
   "execution_count": 11,
   "metadata": {},
   "outputs": [
    {
     "data": {
      "text/plain": [
       "Onko vari == keltainen?"
      ]
     },
     "execution_count": 11,
     "metadata": {},
     "output_type": "execute_result"
    }
   ],
   "source": [
    "Kysymys(0, \"keltainen\")"
   ]
  },
  {
   "cell_type": "code",
   "execution_count": 12,
   "metadata": {},
   "outputs": [
    {
     "data": {
      "text/plain": [
       "Onko ymparysmitta cm >= 3?"
      ]
     },
     "execution_count": 12,
     "metadata": {},
     "output_type": "execute_result"
    }
   ],
   "source": [
    "Kysymys(1,3)"
   ]
  },
  {
   "cell_type": "code",
   "execution_count": 13,
   "metadata": {
    "collapsed": true
   },
   "outputs": [],
   "source": [
    "def jaa_puu_true_false(rivit, kysymys): # jakaa puun nodet True tai False listoihin kysymyksien perusteella \n",
    "    true_taulukko = []\n",
    "    false_taulukko = []\n",
    "    for rivi in rivit:\n",
    "        if kysymys.vertaa_onko_match(rivi):\n",
    "            true_taulukko.append(rivi)\n",
    "        else:\n",
    "            false_taulukko.append(rivi)\n",
    "    return true_taulukko, false_taulukko"
   ]
  },
  {
   "cell_type": "code",
   "execution_count": 14,
   "metadata": {
    "collapsed": true
   },
   "outputs": [],
   "source": [
    "true_taulukko, false_taulukko = jaa_puu_true_false(data, Kysymys(1, 3))"
   ]
  },
  {
   "cell_type": "code",
   "execution_count": 15,
   "metadata": {},
   "outputs": [
    {
     "data": {
      "text/plain": [
       "[['vihrea', 3, 'silea', 'omena'],\n",
       " ['keltainen', 3, 'silea', 'omena'],\n",
       " ['keltainen', 3, 'karhea', 'sitruuna']]"
      ]
     },
     "execution_count": 15,
     "metadata": {},
     "output_type": "execute_result"
    }
   ],
   "source": [
    "true_taulukko"
   ]
  },
  {
   "cell_type": "code",
   "execution_count": 16,
   "metadata": {},
   "outputs": [
    {
     "data": {
      "text/plain": [
       "[['punainen', 1, 'silea', 'rypale'], ['punainen', 1, 'karhea', 'mansikka']]"
      ]
     },
     "execution_count": 16,
     "metadata": {},
     "output_type": "execute_result"
    }
   ],
   "source": [
    "false_taulukko"
   ]
  },
  {
   "cell_type": "code",
   "execution_count": 17,
   "metadata": {
    "collapsed": true
   },
   "outputs": [],
   "source": [
    "def gini(rivit):#Palauttaa tiedon miten järjestyksessä puu on \n",
    "    lkm = palauta_luokkien_lkm(rivit)\n",
    "    print(lkm)\n",
    "    impurity = 1 #\"epäpuhtaus\"\n",
    "    for lbl in lkm:\n",
    "         prob_of_lbl = lkm[lbl] / float(len(rivit))\n",
    "         impurity -= prob_of_lbl**2\n",
    "    return impurity"
   ]
  },
  {
   "cell_type": "code",
   "execution_count": 18,
   "metadata": {},
   "outputs": [
    {
     "name": "stdout",
     "output_type": "stream",
     "text": [
      "{'omena': 3}\n"
     ]
    },
    {
     "data": {
      "text/plain": [
       "0.0"
      ]
     },
     "execution_count": 18,
     "metadata": {},
     "output_type": "execute_result"
    }
   ],
   "source": [
    "kaikki_samaa = [['omena'],\n",
    "              ['omena'],\n",
    "               ['omena']]\n",
    "\n",
    "gini(kaikki_samaa)\n",
    "#impurity on 0 "
   ]
  },
  {
   "cell_type": "code",
   "execution_count": 19,
   "metadata": {},
   "outputs": [
    {
     "name": "stdout",
     "output_type": "stream",
     "text": [
      "{'omena': 1, 'rypale': 1}\n"
     ]
    },
    {
     "data": {
      "text/plain": [
       "0.5"
      ]
     },
     "execution_count": 19,
     "metadata": {},
     "output_type": "execute_result"
    }
   ],
   "source": [
    "pieni_sekoitus = [['omena'],\n",
    "               ['rypale']]\n",
    "# impurity 0.5 \n",
    "gini(pieni_sekoitus)"
   ]
  },
  {
   "cell_type": "code",
   "execution_count": 20,
   "metadata": {},
   "outputs": [
    {
     "name": "stdout",
     "output_type": "stream",
     "text": [
      "{'omena': 1, 'sitruuna': 1, 'rypale': 1, 'mansikka': 1, 'banaani': 1}\n"
     ]
    },
    {
     "data": {
      "text/plain": [
       "0.7999999999999998"
      ]
     },
     "execution_count": 20,
     "metadata": {},
     "output_type": "execute_result"
    }
   ],
   "source": [
    "suuri_sekoitus = [['omena'],\n",
    "                  ['sitruuna'],\n",
    "                  ['rypale'],\n",
    "                  ['mansikka'],\n",
    "                  ['banaani'],\n",
    "                  #['paaryma']\n",
    "                    ]\n",
    "gini(suuri_sekoitus)"
   ]
  },
  {
   "cell_type": "code",
   "execution_count": 21,
   "metadata": {
    "collapsed": true
   },
   "outputs": [],
   "source": [
    "def gain_info(vasen, oikea,epavarmuus):# testaa mikä on paras kysymys kulloisellekin nodelle  \n",
    "    p = float(len(vasen))/(len(vasen)+ len(oikea)) \n",
    "    return epavarmuus - p * gini(vasen)-(1 - p) * gini(oikea)"
   ]
  },
  {
   "cell_type": "code",
   "execution_count": 22,
   "metadata": {},
   "outputs": [
    {
     "name": "stdout",
     "output_type": "stream",
     "text": [
      "{'omena': 2, 'rypale': 1, 'sitruuna': 1, 'mansikka': 1}\n"
     ]
    }
   ],
   "source": [
    "epavarmuus = gini(data)"
   ]
  },
  {
   "cell_type": "code",
   "execution_count": 23,
   "metadata": {},
   "outputs": [
    {
     "data": {
      "text/plain": [
       "0.7199999999999999"
      ]
     },
     "execution_count": 23,
     "metadata": {},
     "output_type": "execute_result"
    }
   ],
   "source": [
    "epavarmuus"
   ]
  },
  {
   "cell_type": "code",
   "execution_count": 24,
   "metadata": {
    "collapsed": true
   },
   "outputs": [],
   "source": [
    "true_rivit, false_rivit = jaa_puu_true_false(data, Kysymys(0, 'vihrea'))"
   ]
  },
  {
   "cell_type": "code",
   "execution_count": 25,
   "metadata": {},
   "outputs": [
    {
     "name": "stdout",
     "output_type": "stream",
     "text": [
      "{'omena': 1}\n",
      "{'omena': 1, 'rypale': 1, 'sitruuna': 1, 'mansikka': 1}\n"
     ]
    },
    {
     "data": {
      "text/plain": [
       "0.11999999999999977"
      ]
     },
     "execution_count": 25,
     "metadata": {},
     "output_type": "execute_result"
    }
   ],
   "source": [
    "gain_info(true_rivit, false_rivit, epavarmuus)"
   ]
  },
  {
   "cell_type": "code",
   "execution_count": 26,
   "metadata": {},
   "outputs": [
    {
     "data": {
      "text/plain": [
       "[['vihrea', 3, 'silea', 'omena']]"
      ]
     },
     "execution_count": 26,
     "metadata": {},
     "output_type": "execute_result"
    }
   ],
   "source": [
    "true_rivit"
   ]
  },
  {
   "cell_type": "code",
   "execution_count": 27,
   "metadata": {
    "collapsed": true
   },
   "outputs": [],
   "source": [
    "true_rivit, false_rivit = jaa_puu_true_false(data, Kysymys(0, 'punainen'))"
   ]
  },
  {
   "cell_type": "code",
   "execution_count": 28,
   "metadata": {},
   "outputs": [
    {
     "name": "stdout",
     "output_type": "stream",
     "text": [
      "{'rypale': 1, 'mansikka': 1}\n",
      "{'omena': 2, 'sitruuna': 1}\n"
     ]
    },
    {
     "data": {
      "text/plain": [
       "0.25333333333333313"
      ]
     },
     "execution_count": 28,
     "metadata": {},
     "output_type": "execute_result"
    }
   ],
   "source": [
    "gain_info(true_rivit, false_rivit, epavarmuus)"
   ]
  },
  {
   "cell_type": "code",
   "execution_count": 29,
   "metadata": {},
   "outputs": [
    {
     "data": {
      "text/plain": [
       "[['punainen', 1, 'silea', 'rypale'], ['punainen', 1, 'karhea', 'mansikka']]"
      ]
     },
     "execution_count": 29,
     "metadata": {},
     "output_type": "execute_result"
    }
   ],
   "source": [
    "true_rivit"
   ]
  },
  {
   "cell_type": "code",
   "execution_count": 30,
   "metadata": {
    "collapsed": true
   },
   "outputs": [],
   "source": [
    "def etsi_paras_jako(rivit): # Selvittää miten puu saadaan jaettua parhaiten. Palauttaa kysymyksen ja arvon kuinka paljon sillä saadaan infoa \n",
    "    paras_gain = 0 \n",
    "    paras_kysymys = None\n",
    "    tamanhetkinen_epavarmuus = gini(rivit)\n",
    "    num_features = len(rivit[0])-1\n",
    "    \n",
    "    for col in range(num_features):\n",
    "        values = set([rivi[col] for rivi in rivit])\n",
    "        for val in values:\n",
    "            kysymys = Kysymys(col, val)\n",
    "            \n",
    "            true_rivit, false_rivit = jaa_puu_true_false(rivit,kysymys)\n",
    "            if len(true_rivit) == 0 or len(false_rivit) == 0 :\n",
    "                continue\n",
    "                \n",
    "            gain = gain_info (true_rivit, false_rivit, tamanhetkinen_epavarmuus)\n",
    "            \n",
    "            if gain >=  paras_gain:\n",
    "                paras_gain, paras_kysymys = gain, kysymys\n",
    "                \n",
    "    return paras_gain, paras_kysymys          "
   ]
  },
  {
   "cell_type": "code",
   "execution_count": 31,
   "metadata": {
    "scrolled": false
   },
   "outputs": [
    {
     "name": "stdout",
     "output_type": "stream",
     "text": [
      "{'omena': 2, 'rypale': 1, 'sitruuna': 1, 'mansikka': 1}\n",
      "{'omena': 1, 'sitruuna': 1}\n",
      "{'omena': 1, 'rypale': 1, 'mansikka': 1}\n",
      "{'omena': 1}\n",
      "{'omena': 1, 'rypale': 1, 'sitruuna': 1, 'mansikka': 1}\n",
      "{'rypale': 1, 'mansikka': 1}\n",
      "{'omena': 2, 'sitruuna': 1}\n",
      "{'omena': 2, 'sitruuna': 1}\n",
      "{'rypale': 1, 'mansikka': 1}\n",
      "{'omena': 2, 'rypale': 1}\n",
      "{'sitruuna': 1, 'mansikka': 1}\n",
      "{'sitruuna': 1, 'mansikka': 1}\n",
      "{'omena': 2, 'rypale': 1}\n"
     ]
    },
    {
     "data": {
      "text/plain": [
       "0.2533333333333332"
      ]
     },
     "execution_count": 31,
     "metadata": {},
     "output_type": "execute_result"
    }
   ],
   "source": [
    "best_gain, best_question = etsi_paras_jako(data)\n",
    "best_gain"
   ]
  },
  {
   "cell_type": "code",
   "execution_count": 32,
   "metadata": {},
   "outputs": [
    {
     "data": {
      "text/plain": [
       "Onko pinta == silea?"
      ]
     },
     "execution_count": 32,
     "metadata": {},
     "output_type": "execute_result"
    }
   ],
   "source": [
    "best_question"
   ]
  },
  {
   "cell_type": "code",
   "execution_count": 33,
   "metadata": {
    "collapsed": true
   },
   "outputs": [],
   "source": [
    "class Lehti: # Lehti node Node josta ei päästä enää alaspäin.  Vastaus \n",
    "    \n",
    "    def __init__(self, rivit):\n",
    "        self.ennustukset = palauta_luokkien_lkm(rivit)    "
   ]
  },
  {
   "cell_type": "code",
   "execution_count": 34,
   "metadata": {
    "collapsed": true
   },
   "outputs": [],
   "source": [
    "class Paatos_Node: #tavallinen solmu. Pitää tiedon kysymyksestä mikä kysytään ja child nodeistaan(vasen ja  oikea)\n",
    "    def __init__(self,\n",
    "                 kysymys,\n",
    "                 true_oksa,\n",
    "                 false_oksa):\n",
    "        self.kysymys = kysymys\n",
    "        self.true_oksa = true_oksa\n",
    "        self.false_oksa = false_oksa\n",
    "    "
   ]
  },
  {
   "cell_type": "code",
   "execution_count": 35,
   "metadata": {
    "collapsed": true
   },
   "outputs": [],
   "source": [
    "def tee_puu(data):# luo puun rekiusrsiviisesti \n",
    "    gain, kysymys = etsi_paras_jako(data)\n",
    "    if gain == 0:\n",
    "        return Lehti(data)\n",
    "   \n",
    "    true_rivit, false_rivit = jaa_puu_true_false(data, kysymys)\n",
    "    true_oksa = tee_puu(true_rivit)\n",
    "    false_oksa = tee_puu(false_rivit)\n",
    "    return Paatos_Node(kysymys, true_oksa, false_oksa)"
   ]
  },
  {
   "cell_type": "code",
   "execution_count": 36,
   "metadata": {
    "collapsed": true
   },
   "outputs": [],
   "source": [
    "def tulosta_puu(node, valimerkki=\" \"): # tulostaa puun\n",
    "    if isinstance(node, Lehti):\n",
    "        print(valimerkki + \"Ennuste\", node.ennustukset)\n",
    "        return\n",
    "    \n",
    "    # tulostetaan kysymykset \n",
    "    print(valimerkki + str(node.kysymys))\n",
    "    \n",
    "    #tulostetaan true_oksat\n",
    "    print(valimerkki + '--> True:')\n",
    "    tulosta_puu(node.true_oksa, valimerkki + \" \")\n",
    "    \n",
    "    #tulostetaan false_oksat\n",
    "    print(valimerkki + '--> False:')\n",
    "    tulosta_puu(node.false_oksa, valimerkki + \" \")\n",
    "    \n",
    "    "
   ]
  },
  {
   "cell_type": "code",
   "execution_count": 37,
   "metadata": {},
   "outputs": [
    {
     "name": "stdout",
     "output_type": "stream",
     "text": [
      "{'omena': 2, 'rypale': 1, 'sitruuna': 1, 'mansikka': 1}\n",
      "{'omena': 1, 'sitruuna': 1}\n",
      "{'omena': 1, 'rypale': 1, 'mansikka': 1}\n",
      "{'omena': 1}\n",
      "{'omena': 1, 'rypale': 1, 'sitruuna': 1, 'mansikka': 1}\n",
      "{'rypale': 1, 'mansikka': 1}\n",
      "{'omena': 2, 'sitruuna': 1}\n",
      "{'omena': 2, 'sitruuna': 1}\n",
      "{'rypale': 1, 'mansikka': 1}\n",
      "{'omena': 2, 'rypale': 1}\n",
      "{'sitruuna': 1, 'mansikka': 1}\n",
      "{'sitruuna': 1, 'mansikka': 1}\n",
      "{'omena': 2, 'rypale': 1}\n",
      "{'omena': 2, 'rypale': 1}\n",
      "{'omena': 1}\n",
      "{'omena': 1, 'rypale': 1}\n",
      "{'omena': 1}\n",
      "{'omena': 1, 'rypale': 1}\n",
      "{'rypale': 1}\n",
      "{'omena': 2}\n",
      "{'omena': 2}\n",
      "{'rypale': 1}\n",
      "{'omena': 2}\n",
      "{'omena': 1}\n",
      "{'omena': 1}\n",
      "{'omena': 1}\n",
      "{'omena': 1}\n",
      "{'rypale': 1}\n",
      "{'sitruuna': 1, 'mansikka': 1}\n",
      "{'sitruuna': 1}\n",
      "{'mansikka': 1}\n",
      "{'mansikka': 1}\n",
      "{'sitruuna': 1}\n",
      "{'sitruuna': 1}\n",
      "{'mansikka': 1}\n",
      "{'sitruuna': 1}\n",
      "{'mansikka': 1}\n"
     ]
    }
   ],
   "source": [
    "mun_puu = tee_puu(data)"
   ]
  },
  {
   "cell_type": "code",
   "execution_count": 38,
   "metadata": {},
   "outputs": [
    {
     "name": "stdout",
     "output_type": "stream",
     "text": [
      " Onko pinta == silea?\n",
      " --> True:\n",
      "  Onko ymparysmitta cm >= 3?\n",
      "  --> True:\n",
      "   Ennuste {'omena': 2}\n",
      "  --> False:\n",
      "   Ennuste {'rypale': 1}\n",
      " --> False:\n",
      "  Onko ymparysmitta cm >= 3?\n",
      "  --> True:\n",
      "   Ennuste {'sitruuna': 1}\n",
      "  --> False:\n",
      "   Ennuste {'mansikka': 1}\n"
     ]
    }
   ],
   "source": [
    "tulosta_puu(mun_puu)"
   ]
  },
  {
   "cell_type": "code",
   "execution_count": 39,
   "metadata": {
    "collapsed": true
   },
   "outputs": [],
   "source": [
    "def clasify( rivi, node): # luokittelija funktio Eli antaa vastauksen \n",
    "    if isinstance(node, Lehti):\n",
    "        return node.ennustukset\n",
    "    if node.kysymys.vertaa_onko_match(rivi):\n",
    "        return clasify(rivi, node.true_oksa)\n",
    "    else:\n",
    "        return clasify(rivi, node.false_oksa)"
   ]
  },
  {
   "cell_type": "code",
   "execution_count": 40,
   "metadata": {},
   "outputs": [
    {
     "name": "stdout",
     "output_type": "stream",
     "text": [
      "{'mansikka': 1}\n"
     ]
    }
   ],
   "source": [
    "print(clasify(data[4], mun_puu))"
   ]
  },
  {
   "cell_type": "code",
   "execution_count": 41,
   "metadata": {
    "collapsed": true
   },
   "outputs": [],
   "source": [
    "def tulosta_ennuste_luotettavuus(lkm):# tulostaa vastauksen ja vastauksen oikeellisuuden todennäköisuuden prosenteina \n",
    "    total = sum(lkm.values()) * 1.0\n",
    "    probs = {}\n",
    "    for lbl in lkm.keys():\n",
    "        probs[lbl] = str(int(lkm[lbl] / total * 100)) + \"%\"\n",
    "    return probs"
   ]
  },
  {
   "cell_type": "code",
   "execution_count": 42,
   "metadata": {},
   "outputs": [
    {
     "data": {
      "text/plain": [
       "{'omena': '100%'}"
      ]
     },
     "execution_count": 42,
     "metadata": {},
     "output_type": "execute_result"
    }
   ],
   "source": [
    "tulosta_ennuste_luotettavuus(clasify(data[0], mun_puu))"
   ]
  },
  {
   "cell_type": "code",
   "execution_count": 43,
   "metadata": {},
   "outputs": [
    {
     "data": {
      "text/plain": [
       "{'omena': '100%'}"
      ]
     },
     "execution_count": 43,
     "metadata": {},
     "output_type": "execute_result"
    }
   ],
   "source": [
    "tulosta_ennuste_luotettavuus(clasify(data[1], mun_puu))"
   ]
  },
  {
   "cell_type": "code",
   "execution_count": 44,
   "metadata": {},
   "outputs": [
    {
     "data": {
      "text/plain": [
       "{'mansikka': '100%'}"
      ]
     },
     "execution_count": 44,
     "metadata": {},
     "output_type": "execute_result"
    }
   ],
   "source": [
    "tulosta_ennuste_luotettavuus(clasify(data[4], mun_puu))"
   ]
  },
  {
   "cell_type": "code",
   "execution_count": null,
   "metadata": {
    "collapsed": true
   },
   "outputs": [],
   "source": []
  }
 ],
 "metadata": {
  "kernelspec": {
   "display_name": "Python 3",
   "language": "python",
   "name": "python3"
  },
  "language_info": {
   "codemirror_mode": {
    "name": "ipython",
    "version": 3
   },
   "file_extension": ".py",
   "mimetype": "text/x-python",
   "name": "python",
   "nbconvert_exporter": "python",
   "pygments_lexer": "ipython3",
   "version": "3.6.3"
  }
 },
 "nbformat": 4,
 "nbformat_minor": 2
}
